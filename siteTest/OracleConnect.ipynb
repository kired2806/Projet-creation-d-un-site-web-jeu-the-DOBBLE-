{
 "cells": [
  {
   "cell_type": "code",
   "execution_count": 1,
   "metadata": {},
   "outputs": [],
   "source": [
    "from sqlalchemy import create_engine\n",
    "import cx_Oracle\n",
    "import datetime"
   ]
  },
  {
   "cell_type": "code",
   "execution_count": 2,
   "metadata": {},
   "outputs": [],
   "source": [
    "username = 'VDT2922A'\n",
    "password = 'fde219562'"
   ]
  },
  {
   "cell_type": "code",
   "execution_count": 3,
   "metadata": {},
   "outputs": [],
   "source": [
    "engine = create_engine('oracle://' + username + ':' + password + '@telline.univ-tlse3.fr:1521/etupre')\n",
    ""
   ]
  },
  {
   "cell_type": "code",
   "execution_count": 4,
   "metadata": {},
   "outputs": [
    {
     "name": "stdout",
     "output_type": "stream",
     "text": "[(1, 'Chocolatine', Decimal('1')), (2, 'Croissant', Decimal('0.9')), (3, 'Brioche', Decimal('0.95')), (4, 'Pain au raisin', Decimal('1.1'))]\n"
    }
   ],
   "source": [
    "with engine.connect() as con:\n",
    "    rs = con.execute('SELECT * FROM Produit')\n",
    "    print([row for row in rs]) "
   ]
  },
  {
   "cell_type": "code",
   "execution_count": 5,
   "metadata": {},
   "outputs": [
    {
     "name": "stdout",
     "output_type": "stream",
     "text": "a value: 1.0 et b value: 3.0\n"
    }
   ],
   "source": [
    "connection = engine.raw_connection()\n",
    "try:\n",
    "        cursor = connection.cursor()\n",
    "        a = cursor.var(cx_Oracle.NUMBER)\n",
    "        b = cursor.var(cx_Oracle.NUMBER)\n",
    "        cursor.callproc(\"min_max_ventes\", [datetime.date(2017, 1, 1),a,b])\n",
    "        print(\"a value:\",a.values[0],\"et b value:\",b.values[0])\n",
    "        cursor.close()\n",
    "        connection.commit()\n",
    "finally:\n",
    "        connection.close()"
   ]
  },
  {
   "cell_type": "code",
   "execution_count": null,
   "metadata": {},
   "outputs": [],
   "source": []
  }
 ],
 "metadata": {
  "kernelspec": {
   "display_name": "Python 3",
   "language": "python",
   "name": "python3"
  },
  "language_info": {
   "codemirror_mode": {
    "name": "ipython",
    "version": 3
   },
   "file_extension": ".py",
   "mimetype": "text/x-python",
   "name": "python",
   "nbconvert_exporter": "python",
   "pygments_lexer": "ipython3",
   "version": "3.7.3-final"
  }
 },
 "nbformat": 4,
 "nbformat_minor": 2
}