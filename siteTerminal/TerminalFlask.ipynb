{
 "cells": [
  {
   "cell_type": "code",
   "execution_count": 1,
   "metadata": {},
   "outputs": [],
   "source": [
    "from flask import Flask, render_template, Markup, request, session\n",
    "app = Flask(__name__)\n",
    "app.secret_key = 'super secret key'"
   ]
  },
  {
   "cell_type": "code",
   "execution_count": null,
   "metadata": {},
   "outputs": [],
   "source": [
    "@app.route(\"/\")\n",
    "def index_page():\n",
    "    print(session)\n",
    "    code_html = \"\"\n",
    "    value = []\n",
    "    if 'value' in session:\n",
    "        value = session['value'].split(\"<br>\")\n",
    "    if 'value' in request.args:\n",
    "        if request.args.get('value')=='clear':\n",
    "            session.pop('value',None)\n",
    "            value = []\n",
    "        else:\n",
    "            value += [request.args.get('value')]\n",
    "    if len(value) > 0:\n",
    "        value = \"<br>\".join(value)\n",
    "        session['value'] = value\n",
    "        code_html = value\n",
    "    return render_template(\"index.html\", content=Markup(code_html))\n",
    "\n",
    "@app.route(\"/test1\")\n",
    "def test1_page():\n",
    "    cartes = [\"static/img/images\"+x+\".jpeg\" for x in [\"1\",\"2\"]]\n",
    "    return render_template(\"copy.html\", cartes=cartes)"
   ]
  },
  {
   "cell_type": "code",
   "execution_count": null,
   "metadata": {},
   "outputs": [],
   "source": [
    "app.run()"
   ]
  },
  {
   "cell_type": "code",
   "execution_count": null,
   "metadata": {},
   "outputs": [],
   "source": []
  }
 ],
 "metadata": {
  "kernelspec": {
   "display_name": "Python 3",
   "language": "python",
   "name": "python3"
  },
  "language_info": {
   "codemirror_mode": {
    "name": "ipython",
    "version": 3
   },
   "file_extension": ".py",
   "mimetype": "text/x-python",
   "name": "python",
   "nbconvert_exporter": "python",
   "pygments_lexer": "ipython3",
   "version": "3.7.3-final"
  }
 },
 "nbformat": 4,
 "nbformat_minor": 2
}